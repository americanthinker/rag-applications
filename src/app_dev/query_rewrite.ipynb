{
 "cells": [
  {
   "cell_type": "code",
   "execution_count": 1,
   "metadata": {},
   "outputs": [
    {
     "name": "stderr",
     "output_type": "stream",
     "text": [
      "/usr/local/lib/python3.10/site-packages/pydantic/_internal/_config.py:284: PydanticDeprecatedSince20: Support for class-based `config` is deprecated, use ConfigDict instead. Deprecated in Pydantic V2.0 to be removed in V3.0. See Pydantic V2 Migration Guide at https://errors.pydantic.dev/2.7/migration/\n",
      "  warnings.warn(DEPRECATION_MESSAGE, DeprecationWarning)\n",
      "/usr/local/lib/python3.10/site-packages/litellm/proxy/_types.py:167: PydanticDeprecatedSince20: Pydantic V1 style `@root_validator` validators are deprecated. You should migrate to Pydantic V2 style `@model_validator` validators, see the migration guide for more details. Deprecated in Pydantic V2.0 to be removed in V3.0. See Pydantic V2 Migration Guide at https://errors.pydantic.dev/2.7/migration/\n",
      "  @root_validator(pre=True)\n",
      "/usr/local/lib/python3.10/site-packages/litellm/proxy/_types.py:254: PydanticDeprecatedSince20: `pydantic.config.Extra` is deprecated, use literal values instead (e.g. `extra='allow'`). Deprecated in Pydantic V2.0 to be removed in V3.0. See Pydantic V2 Migration Guide at https://errors.pydantic.dev/2.7/migration/\n",
      "  extra = Extra.allow  # Allow extra fields\n",
      "/usr/local/lib/python3.10/site-packages/litellm/proxy/_types.py:257: PydanticDeprecatedSince20: Pydantic V1 style `@root_validator` validators are deprecated. You should migrate to Pydantic V2 style `@model_validator` validators, see the migration guide for more details. Deprecated in Pydantic V2.0 to be removed in V3.0. See Pydantic V2 Migration Guide at https://errors.pydantic.dev/2.7/migration/\n",
      "  @root_validator(pre=True)\n",
      "/usr/local/lib/python3.10/site-packages/litellm/proxy/_types.py:286: PydanticDeprecatedSince20: Pydantic V1 style `@root_validator` validators are deprecated. You should migrate to Pydantic V2 style `@model_validator` validators, see the migration guide for more details. Deprecated in Pydantic V2.0 to be removed in V3.0. See Pydantic V2 Migration Guide at https://errors.pydantic.dev/2.7/migration/\n",
      "  @root_validator(pre=True)\n",
      "/usr/local/lib/python3.10/site-packages/litellm/proxy/_types.py:333: PydanticDeprecatedSince20: Pydantic V1 style `@root_validator` validators are deprecated. You should migrate to Pydantic V2 style `@model_validator` validators, see the migration guide for more details. Deprecated in Pydantic V2.0 to be removed in V3.0. See Pydantic V2 Migration Guide at https://errors.pydantic.dev/2.7/migration/\n",
      "  @root_validator(pre=True)\n",
      "/usr/local/lib/python3.10/site-packages/litellm/proxy/_types.py:399: PydanticDeprecatedSince20: Pydantic V1 style `@root_validator` validators are deprecated. You should migrate to Pydantic V2 style `@model_validator` validators, see the migration guide for more details. Deprecated in Pydantic V2.0 to be removed in V3.0. See Pydantic V2 Migration Guide at https://errors.pydantic.dev/2.7/migration/\n",
      "  @root_validator(pre=True)\n",
      "/usr/local/lib/python3.10/site-packages/litellm/proxy/_types.py:411: PydanticDeprecatedSince20: Pydantic V1 style `@root_validator` validators are deprecated. You should migrate to Pydantic V2 style `@model_validator` validators, see the migration guide for more details. Deprecated in Pydantic V2.0 to be removed in V3.0. See Pydantic V2 Migration Guide at https://errors.pydantic.dev/2.7/migration/\n",
      "  @root_validator(pre=True)\n",
      "/usr/local/lib/python3.10/site-packages/litellm/proxy/_types.py:451: PydanticDeprecatedSince20: Pydantic V1 style `@root_validator` validators are deprecated. You should migrate to Pydantic V2 style `@model_validator` validators, see the migration guide for more details. Deprecated in Pydantic V2.0 to be removed in V3.0. See Pydantic V2 Migration Guide at https://errors.pydantic.dev/2.7/migration/\n",
      "  @root_validator(pre=True)\n",
      "/usr/local/lib/python3.10/site-packages/litellm/proxy/_types.py:477: PydanticDeprecatedSince20: Pydantic V1 style `@root_validator` validators are deprecated. You should migrate to Pydantic V2 style `@model_validator` validators, see the migration guide for more details. Deprecated in Pydantic V2.0 to be removed in V3.0. See Pydantic V2 Migration Guide at https://errors.pydantic.dev/2.7/migration/\n",
      "  @root_validator(pre=True)\n",
      "/usr/local/lib/python3.10/site-packages/litellm/proxy/_types.py:740: PydanticDeprecatedSince20: Pydantic V1 style `@root_validator` validators are deprecated. You should migrate to Pydantic V2 style `@model_validator` validators, see the migration guide for more details. Deprecated in Pydantic V2.0 to be removed in V3.0. See Pydantic V2 Migration Guide at https://errors.pydantic.dev/2.7/migration/\n",
      "  @root_validator(pre=True)\n",
      "/usr/local/lib/python3.10/site-packages/litellm/proxy/_types.py:763: PydanticDeprecatedSince20: Pydantic V1 style `@root_validator` validators are deprecated. You should migrate to Pydantic V2 style `@model_validator` validators, see the migration guide for more details. Deprecated in Pydantic V2.0 to be removed in V3.0. See Pydantic V2 Migration Guide at https://errors.pydantic.dev/2.7/migration/\n",
      "  @root_validator(pre=True)\n",
      "/usr/local/lib/python3.10/site-packages/litellm/proxy/_types.py:782: PydanticDeprecatedSince20: Pydantic V1 style `@root_validator` validators are deprecated. You should migrate to Pydantic V2 style `@model_validator` validators, see the migration guide for more details. Deprecated in Pydantic V2.0 to be removed in V3.0. See Pydantic V2 Migration Guide at https://errors.pydantic.dev/2.7/migration/\n",
      "  @root_validator(pre=True)\n",
      "/usr/local/lib/python3.10/site-packages/litellm/utils.py:35: DeprecationWarning: pkg_resources is deprecated as an API. See https://setuptools.pypa.io/en/latest/pkg_resources.html\n",
      "  import pkg_resources\n",
      "/usr/local/lib/python3.10/site-packages/pkg_resources/__init__.py:2868: DeprecationWarning: Deprecated call to `pkg_resources.declare_namespace('mpl_toolkits')`.\n",
      "Implementing implicit namespace packages (as specified in PEP 420) is preferred to `pkg_resources.declare_namespace`. See https://setuptools.pypa.io/en/latest/references/keywords.html#keyword-namespace-packages\n",
      "  declare_namespace(pkg)\n",
      "/usr/local/lib/python3.10/site-packages/pydantic/_internal/_config.py:284: PydanticDeprecatedSince20: Support for class-based `config` is deprecated, use ConfigDict instead. Deprecated in Pydantic V2.0 to be removed in V3.0. See Pydantic V2 Migration Guide at https://errors.pydantic.dev/2.7/migration/\n",
      "  warnings.warn(DEPRECATION_MESSAGE, DeprecationWarning)\n",
      "2024-05-11 03:52:30.570 WARNING streamlit.runtime.caching.cache_data_api: No runtime found, using MemoryCacheStorageManager\n"
     ]
    }
   ],
   "source": [
    "import sys\n",
    "import time\n",
    "\n",
    "sys.path.append('../..')\n",
    "\n",
    "#load from local .env file\n",
    "from dotenv import load_dotenv, find_dotenv\n",
    "env = load_dotenv('.env', override=True)\n",
    "\n",
    "#standard python\n",
    "from typing import List, Dict, Tuple\n",
    "import os\n",
    "\n",
    "# external libraries\n",
    "from tqdm import tqdm\n",
    "from rich import print  # nice library that provides improved printing output (overrides default print function)\n",
    "\n",
    "# external files\n",
    "from src.reranker import ReRanker\n",
    "from src.database.weaviate_interface_v4 import WeaviateWCS\n",
    "from src.app_dev.app_functions import validate_token_threshold\n",
    "from src.app_dev.query import (\n",
    "    parse_context_results,\n",
    "    CompletedQuery,\n",
    "    CompletedQueryQueue,\n",
    "    create_llm_prompt\n",
    ")\n",
    "from tiktoken import Encoding, get_encoding\n",
    "from src.llm.prompt_templates import (\n",
    "    question_answering_prompt_series,\n",
    "    generate_prompt_series,\n",
    "    huberman_system_message\n",
    ")\n",
    "from src.llm.llm_utils import load_azure_openai"
   ]
  },
  {
   "cell_type": "code",
   "execution_count": 2,
   "metadata": {},
   "outputs": [],
   "source": [
    "#read env vars from local .env file\n",
    "api_key = os.environ['WEAVIATE_API_KEY']\n",
    "url = os.environ['WEAVIATE_ENDPOINT']\n",
    "\n",
    "#instantiate client\n",
    "client = WeaviateWCS(url, api_key)"
   ]
  },
  {
   "cell_type": "code",
   "execution_count": 3,
   "metadata": {},
   "outputs": [
    {
     "data": {
      "text/plain": [
       "['Huberman_subset_minilm_test',\n",
       " 'Huberman_minilm_128',\n",
       " 'Huberman_minilm_256',\n",
       " 'Huberman_minilm_512']"
      ]
     },
     "execution_count": 3,
     "metadata": {},
     "output_type": "execute_result"
    }
   ],
   "source": [
    "#display available collection names on cluster\n",
    "client.show_all_collections()"
   ]
  },
  {
   "cell_type": "code",
   "execution_count": 4,
   "metadata": {},
   "outputs": [],
   "source": [
    "#set collection name to run queries on\n",
    "collection_name = 'Huberman_minilm_256'"
   ]
  },
  {
   "cell_type": "code",
   "execution_count": 5,
   "metadata": {},
   "outputs": [],
   "source": [
    "#Initial query\n",
    "query = 'What episode talks the most about hypertrophy training?'"
   ]
  },
  {
   "cell_type": "code",
   "execution_count": 6,
   "metadata": {},
   "outputs": [],
   "source": [
    "alpha = 0.45\n",
    "hyb_response = client.hybrid_search(query, collection_name, alpha=alpha, limit=5)"
   ]
  },
  {
   "cell_type": "code",
   "execution_count": 7,
   "metadata": {},
   "outputs": [
    {
     "name": "stderr",
     "output_type": "stream",
     "text": [
      "/usr/local/lib/python3.10/site-packages/huggingface_hub/file_download.py:1132: FutureWarning: `resume_download` is deprecated and will be removed in version 1.0.0. Downloads always resume when possible. If you want to force a new download, use `force_download=True`.\n",
      "  warnings.warn(\n",
      "/usr/local/lib/python3.10/site-packages/torch/_utils.py:776: UserWarning: TypedStorage is deprecated. It will be removed in the future and UntypedStorage will be the only storage class. This should only matter to you if you are using storages directly.  To access UntypedStorage directly, use tensor.untyped_storage() instead of tensor.storage()\n",
      "  return self.fget.__get__(instance, owner)()\n"
     ]
    }
   ],
   "source": [
    "reranker = ReRanker()\n",
    "reranked_results = reranker.rerank(\n",
    "            hyb_response, query, apply_sigmoid=False, top_k=5\n",
    "        )"
   ]
  },
  {
   "cell_type": "code",
   "execution_count": 8,
   "metadata": {},
   "outputs": [],
   "source": [
    "encoding = get_encoding(\"cl100k_base\")\n",
    "\n",
    "valid_results = validate_token_threshold(\n",
    "            reranked_results,\n",
    "            question_answering_prompt_series,\n",
    "            query=query,\n",
    "            tokenizer=encoding,\n",
    "            token_threshold=4000,\n",
    "            content_field=\"content\"\n",
    "        )"
   ]
  },
  {
   "cell_type": "code",
   "execution_count": 9,
   "metadata": {},
   "outputs": [],
   "source": [
    "#Getting this here so have for the initial LLM call that we currently use.\n",
    "context_series = generate_prompt_series(query, valid_results, 1)"
   ]
  },
  {
   "cell_type": "code",
   "execution_count": 10,
   "metadata": {},
   "outputs": [],
   "source": [
    "llm = load_azure_openai('gpt-35-turbo')"
   ]
  },
  {
   "cell_type": "code",
   "execution_count": 11,
   "metadata": {},
   "outputs": [
    {
     "data": {
      "text/html": [
       "<pre style=\"white-space:pre;overflow-x:auto;line-height:normal;font-family:Menlo,'DejaVu Sans Mono',consolas,'Courier New',monospace\">The episode that talks the most about hypertrophy training is the one featuring Dr. Andy Galpin as the guest. In \n",
       "this episode, Dr. Galpin discusses the ways to induce hypertrophy and the stimuli needed to promote muscle growth. \n",
       "He emphasizes the importance of resistance training for hypertrophy and clarifies the factors, including hormonal \n",
       "and nutritional aspects, that play a role in inducing hypertrophy. Additionally, he describes hypertrophy training \n",
       "as <span style=\"color: #008000; text-decoration-color: #008000\">\"idiot proof\"</span> in terms of programming, highlighting its importance for both men and women.\n",
       "</pre>\n"
      ],
      "text/plain": [
       "The episode that talks the most about hypertrophy training is the one featuring Dr. Andy Galpin as the guest. In \n",
       "this episode, Dr. Galpin discusses the ways to induce hypertrophy and the stimuli needed to promote muscle growth. \n",
       "He emphasizes the importance of resistance training for hypertrophy and clarifies the factors, including hormonal \n",
       "and nutritional aspects, that play a role in inducing hypertrophy. Additionally, he describes hypertrophy training \n",
       "as \u001b[32m\"idiot proof\"\u001b[0m in terms of programming, highlighting its importance for both men and women.\n"
      ]
     },
     "metadata": {},
     "output_type": "display_data"
    }
   ],
   "source": [
    "llm_response = llm.chat_completion(huberman_system_message,\n",
    "    user_message=context_series,\n",
    "    temperature=0.5,\n",
    "    max_tokens=1000)\n",
    "    \n",
    "print(llm_response)"
   ]
  },
  {
   "cell_type": "code",
   "execution_count": 12,
   "metadata": {},
   "outputs": [],
   "source": [
    "# For now, I just want title, guest, and content.\n",
    "context_results = parse_context_results(valid_results)\n",
    "# Create a CompletedQuery object\n",
    "completed_query = CompletedQuery(query, context_results, llm_response)\n",
    "\n",
    "# Add the CompletedQuery object to the CompletedQueryQueue\n",
    "# This is how we'll store the last 5 queries.\n",
    "completed_query_queue = CompletedQueryQueue()\n",
    "completed_query_queue.add_query(completed_query)"
   ]
  },
  {
   "cell_type": "code",
   "execution_count": 20,
   "metadata": {},
   "outputs": [
    {
     "data": {
      "text/html": [
       "<pre style=\"white-space:pre;overflow-x:auto;line-height:normal;font-family:Menlo,'DejaVu Sans Mono',consolas,'Courier New',monospace\">New User Query: <span style=\"color: #008000; text-decoration-color: #008000\">\"Who else discusses that topic?\"</span>\n",
       "\n",
       "Query History:\n",
       "User Query: What episode talks the most about hypertrophy training?, Context Results: <span style=\"font-weight: bold\">[</span>Title: Dr. Andy Galpin: \n",
       "Optimal Nutrition &amp; Supplementation for Fitness | Huberman Lab Guest Series, Guest: Dr. Andy Galpin, Content: The \n",
       "second episode, you educated us about strength, speed and hypertrophy training. And there too, an immense amount of\n",
       "incredible knowledge. We got way down into the details. You explained sets, reps, the rationale for sets, reps, \n",
       "rest, cadence, number of workouts per week. I'm definitely going to take away my need to do some speed-based \n",
       "training and some power-based training. Normally, I think in terms of strength or hypertrophy. And I'm relieved to \n",
       "learn that a lot of the speed and power-based training, it's low intensity enough that it can be done fairly often \n",
       "and incorporated into my program, which already touches on strength and hypertrophy and indeed some endurance work \n",
       "as well. So amazing tips that you provided there. I'm certainly going to implement the three to five program that \n",
       "you described, three to five exercises done for three to five repetitions, three to five minutes between sets. \n",
       "You're doing this three to five times per week and so on and so forth. All the details, again, timestamped in the \n",
       "strength and hypertrophy episode show notes. So just incredible. We even use that to set up PR with you this week. \n",
       "That's right., Title: Dr. Andy Galpin: Optimize Your Training Program for Fitness &amp; Longevity | Huberman Lab Guest \n",
       "Series, Guest: Dr. Andy Galpin, Content: Now we've got a little bit of distinction. If you're going to train \n",
       "strength and hypertrophy, as we talked about in that episode, at the base, those are going to be complementary. You\n",
       "add on some muscle, you're going to get stronger. You start training for strength, it's probably going to help you \n",
       "add on some muscle mass. As you get to the end of that spectrum, the overlap between the two starts to go away, \n",
       "such that if you truly wanted to maximize strength above everything else, if you continue to train for hypertrophy \n",
       "as well, that's going to take too many resources out of your recovery bin, and you won't be able to do that. The \n",
       "inverse would also be the same, right? If you're training to maximize strength, you wouldn't be able to put enough \n",
       "volume on to get sufficient hypertrophy. So if you wanted to then combine speed with hypertrophy, you're going \n",
       "farther away from each other, which means it's going to be more and more distraction. So the hypertrophy training \n",
       "would cause a ton of fatigue. You wouldn't be able to go at max speed for your speed or power strength., Title: The\n",
       "Science of Vision, Eye Health &amp; Seeing Better, Guest: Andrew Huberman, Content: We are now beginning a new topic \n",
       "for the next four to five episodes of the Huberman Lab Podcast. Before we move into that, I want to just briefly \n",
       "touch on a couple of questions that I got from the last episode, which was related to the science of endurance \n",
       "training. I described the four kinds of endurance training. We posted protocols of the specific four kinds of \n",
       "endurance training at hubermanlab.com. Just go to that episode. You can see the download. It's a zero cost PDF. I \n",
       "got a lot of questions about what's called concurrent training, which is how to program endurance training if you \n",
       "are also interested in strength and hypertrophy training, or how to incorporate strength and hypertrophy training, \n",
       "which was in the previous episode, with endurance training. This can all be made very simple. Ask yourself, what \n",
       "are you trying to emphasize? And then emphasize that for a <span style=\"color: #008080; text-decoration-color: #008080; font-weight: bold\">10</span> to <span style=\"color: #008080; text-decoration-color: #008080; font-weight: bold\">12</span> week cycle. So if you're mostly interested in \n",
       "endurance, I would say use a three to two ratio, maybe get three endurance training workouts per week, maybe four \n",
       "and two strength and hypertrophy workouts., Title: Dr. Andy Galpin: Optimal Protocols to Build Strength &amp; Grow \n",
       "Muscles | Huberman Lab Guest Series, Guest: Dr. Andy Galpin, Content: Let's talk about hypertrophy, the topic that \n",
       "occupies the minds of so many youth, young men, but also a lot of women. I think one of the really interesting \n",
       "progressions that's taken place in the last decade or so is that far more men and women are using resistance \n",
       "training in order to evoke hypertrophy, growth of muscles for aesthetic reasons and for all sorts of reasons. What \n",
       "are the ways that people can induce hypertrophy? So not to correct you or insult you, but probably a better way to \n",
       "think about that question is really, what stimuli do I need to give the muscle to induce hypertrophy? Now, there \n",
       "are hormonal factors that are important. There are nutritional factors. But just to stick with the context of \n",
       "training, this is really going to frame a lot of our answers. And as you'll see, it's one of the reasons why I call\n",
       "hypertrophy training kind of idiot proof in terms of programming. Now the work is hard, difficult and all that, but\n",
       "the precision needed is a lot less than what we saw in power and strength. And so if you note there, like it's very\n",
       "important that you do it in this style with this intent and within these parameters., Title: How to Build Endurance\n",
       "in Your Brain &amp; Body, Guest: Andrew Huberman, Content: Since that's a vast space with many different parameters and\n",
       "you all have different lives and lifestyles and backgrounds with fitness, et cetera, what I'm going to do is I'm \n",
       "going to put three different levels, if you will, or protocols that one could adopt in a link on the show notes so \n",
       "in the caption on YouTube. If you click on that link, you'll be able to see three possible combinations of \n",
       "endurance work, strength and hypertrophy work, or endurance work, flexibility and hypertrophy work that are \n",
       "grounded in many of the major publications that Dr. Andy Galpin and colleagues and other people have described, \n",
       "including this review that's also linked there on concurrent training and how one can use concurrent training, \n",
       "meaning training for endurance, training for strength, training for hypertrophy, training for all these different \n",
       "things without having to train constantly every day, twice a day, et cetera. So if you are interested in taking the\n",
       "protocols that you learned about in this episode and in previous episodes and combining those, we've placed them \n",
       "there for you as a completely zero cost resource. Please understand they are not holy. Costello agrees, they are \n",
       "not holy.<span style=\"font-weight: bold\">]</span>,\n",
       "The episode that talks the most about hypertrophy training is the one featuring Dr. Andy Galpin as the guest. In \n",
       "this episode, Dr. Galpin discusses the ways to induce hypertrophy and the stimuli needed to promote muscle growth. \n",
       "He emphasizes the importance of resistance training for hypertrophy and clarifies the factors, including hormonal \n",
       "and nutritional aspects, that play a role in inducing hypertrophy. Additionally, he describes hypertrophy training \n",
       "as <span style=\"color: #008000; text-decoration-color: #008000\">\"idiot proof\"</span> in terms of programming, highlighting its importance for both men and women., LLM Revised Query: \n",
       "<span style=\"color: #800080; text-decoration-color: #800080; font-style: italic\">None</span>,\n",
       "\n",
       "Instructions:\n",
       "This task involves analyzing user queries within the context of their previous interactions to determine their \n",
       "completeness and specificity. Identify queries as vague or ambiguous if they rely on pronouns without clear \n",
       "antecedents, use non-specific nouns without mentioning specific titles, dates, or identifiable subjects, or make \n",
       "indirect references to topics or subjects previously mentioned without specifying them in the current context. When\n",
       "rewriting queries, directly link to specific episodes, events, or topics that are hinted at but not explicitly \n",
       "specified, using proper nouns and clear descriptors. Convert implicit references into explicit questions, for \n",
       "example, changing <span style=\"color: #008000; text-decoration-color: #008000\">'What happened after that?'</span> to <span style=\"color: #008000; text-decoration-color: #008000\">'What were the main topics discussed in the episode following </span>\n",
       "<span style=\"color: #008000; text-decoration-color: #008000\">[Specific Episode Title]?'</span> Replace general terms with specific details, such as changing <span style=\"color: #008000; text-decoration-color: #008000\">'What topics are covered?'</span>\n",
       "to <span style=\"color: #008000; text-decoration-color: #008000\">'What are the key points Dr. X discussed about Y in [Specific Episode]?'</span> The goal is to ensure each rewritten \n",
       "query is a clear, direct question that unambiguously asks for information about specific topics, episodes, or \n",
       "guests. This facilitates more accurate and relevant searches or responses, enhancing user satisfaction by providing\n",
       "contextually appropriate replies. This active intervention is crucial for not only responding accurately but also \n",
       "for anticipating user needs based on prior queries, tailoring each query to continue the thread of discussion \n",
       "seamlessly, emphasizing clarity and detail.\n",
       "</pre>\n"
      ],
      "text/plain": [
       "New User Query: \u001b[32m\"Who else discusses that topic?\"\u001b[0m\n",
       "\n",
       "Query History:\n",
       "User Query: What episode talks the most about hypertrophy training?, Context Results: \u001b[1m[\u001b[0mTitle: Dr. Andy Galpin: \n",
       "Optimal Nutrition & Supplementation for Fitness | Huberman Lab Guest Series, Guest: Dr. Andy Galpin, Content: The \n",
       "second episode, you educated us about strength, speed and hypertrophy training. And there too, an immense amount of\n",
       "incredible knowledge. We got way down into the details. You explained sets, reps, the rationale for sets, reps, \n",
       "rest, cadence, number of workouts per week. I'm definitely going to take away my need to do some speed-based \n",
       "training and some power-based training. Normally, I think in terms of strength or hypertrophy. And I'm relieved to \n",
       "learn that a lot of the speed and power-based training, it's low intensity enough that it can be done fairly often \n",
       "and incorporated into my program, which already touches on strength and hypertrophy and indeed some endurance work \n",
       "as well. So amazing tips that you provided there. I'm certainly going to implement the three to five program that \n",
       "you described, three to five exercises done for three to five repetitions, three to five minutes between sets. \n",
       "You're doing this three to five times per week and so on and so forth. All the details, again, timestamped in the \n",
       "strength and hypertrophy episode show notes. So just incredible. We even use that to set up PR with you this week. \n",
       "That's right., Title: Dr. Andy Galpin: Optimize Your Training Program for Fitness & Longevity | Huberman Lab Guest \n",
       "Series, Guest: Dr. Andy Galpin, Content: Now we've got a little bit of distinction. If you're going to train \n",
       "strength and hypertrophy, as we talked about in that episode, at the base, those are going to be complementary. You\n",
       "add on some muscle, you're going to get stronger. You start training for strength, it's probably going to help you \n",
       "add on some muscle mass. As you get to the end of that spectrum, the overlap between the two starts to go away, \n",
       "such that if you truly wanted to maximize strength above everything else, if you continue to train for hypertrophy \n",
       "as well, that's going to take too many resources out of your recovery bin, and you won't be able to do that. The \n",
       "inverse would also be the same, right? If you're training to maximize strength, you wouldn't be able to put enough \n",
       "volume on to get sufficient hypertrophy. So if you wanted to then combine speed with hypertrophy, you're going \n",
       "farther away from each other, which means it's going to be more and more distraction. So the hypertrophy training \n",
       "would cause a ton of fatigue. You wouldn't be able to go at max speed for your speed or power strength., Title: The\n",
       "Science of Vision, Eye Health & Seeing Better, Guest: Andrew Huberman, Content: We are now beginning a new topic \n",
       "for the next four to five episodes of the Huberman Lab Podcast. Before we move into that, I want to just briefly \n",
       "touch on a couple of questions that I got from the last episode, which was related to the science of endurance \n",
       "training. I described the four kinds of endurance training. We posted protocols of the specific four kinds of \n",
       "endurance training at hubermanlab.com. Just go to that episode. You can see the download. It's a zero cost PDF. I \n",
       "got a lot of questions about what's called concurrent training, which is how to program endurance training if you \n",
       "are also interested in strength and hypertrophy training, or how to incorporate strength and hypertrophy training, \n",
       "which was in the previous episode, with endurance training. This can all be made very simple. Ask yourself, what \n",
       "are you trying to emphasize? And then emphasize that for a \u001b[1;36m10\u001b[0m to \u001b[1;36m12\u001b[0m week cycle. So if you're mostly interested in \n",
       "endurance, I would say use a three to two ratio, maybe get three endurance training workouts per week, maybe four \n",
       "and two strength and hypertrophy workouts., Title: Dr. Andy Galpin: Optimal Protocols to Build Strength & Grow \n",
       "Muscles | Huberman Lab Guest Series, Guest: Dr. Andy Galpin, Content: Let's talk about hypertrophy, the topic that \n",
       "occupies the minds of so many youth, young men, but also a lot of women. I think one of the really interesting \n",
       "progressions that's taken place in the last decade or so is that far more men and women are using resistance \n",
       "training in order to evoke hypertrophy, growth of muscles for aesthetic reasons and for all sorts of reasons. What \n",
       "are the ways that people can induce hypertrophy? So not to correct you or insult you, but probably a better way to \n",
       "think about that question is really, what stimuli do I need to give the muscle to induce hypertrophy? Now, there \n",
       "are hormonal factors that are important. There are nutritional factors. But just to stick with the context of \n",
       "training, this is really going to frame a lot of our answers. And as you'll see, it's one of the reasons why I call\n",
       "hypertrophy training kind of idiot proof in terms of programming. Now the work is hard, difficult and all that, but\n",
       "the precision needed is a lot less than what we saw in power and strength. And so if you note there, like it's very\n",
       "important that you do it in this style with this intent and within these parameters., Title: How to Build Endurance\n",
       "in Your Brain & Body, Guest: Andrew Huberman, Content: Since that's a vast space with many different parameters and\n",
       "you all have different lives and lifestyles and backgrounds with fitness, et cetera, what I'm going to do is I'm \n",
       "going to put three different levels, if you will, or protocols that one could adopt in a link on the show notes so \n",
       "in the caption on YouTube. If you click on that link, you'll be able to see three possible combinations of \n",
       "endurance work, strength and hypertrophy work, or endurance work, flexibility and hypertrophy work that are \n",
       "grounded in many of the major publications that Dr. Andy Galpin and colleagues and other people have described, \n",
       "including this review that's also linked there on concurrent training and how one can use concurrent training, \n",
       "meaning training for endurance, training for strength, training for hypertrophy, training for all these different \n",
       "things without having to train constantly every day, twice a day, et cetera. So if you are interested in taking the\n",
       "protocols that you learned about in this episode and in previous episodes and combining those, we've placed them \n",
       "there for you as a completely zero cost resource. Please understand they are not holy. Costello agrees, they are \n",
       "not holy.\u001b[1m]\u001b[0m,\n",
       "The episode that talks the most about hypertrophy training is the one featuring Dr. Andy Galpin as the guest. In \n",
       "this episode, Dr. Galpin discusses the ways to induce hypertrophy and the stimuli needed to promote muscle growth. \n",
       "He emphasizes the importance of resistance training for hypertrophy and clarifies the factors, including hormonal \n",
       "and nutritional aspects, that play a role in inducing hypertrophy. Additionally, he describes hypertrophy training \n",
       "as \u001b[32m\"idiot proof\"\u001b[0m in terms of programming, highlighting its importance for both men and women., LLM Revised Query: \n",
       "\u001b[3;35mNone\u001b[0m,\n",
       "\n",
       "Instructions:\n",
       "This task involves analyzing user queries within the context of their previous interactions to determine their \n",
       "completeness and specificity. Identify queries as vague or ambiguous if they rely on pronouns without clear \n",
       "antecedents, use non-specific nouns without mentioning specific titles, dates, or identifiable subjects, or make \n",
       "indirect references to topics or subjects previously mentioned without specifying them in the current context. When\n",
       "rewriting queries, directly link to specific episodes, events, or topics that are hinted at but not explicitly \n",
       "specified, using proper nouns and clear descriptors. Convert implicit references into explicit questions, for \n",
       "example, changing \u001b[32m'What happened after that?'\u001b[0m to \u001b[32m'What were the main topics discussed in the episode following \u001b[0m\n",
       "\u001b[32m[\u001b[0m\u001b[32mSpecific Episode Title\u001b[0m\u001b[32m]\u001b[0m\u001b[32m?'\u001b[0m Replace general terms with specific details, such as changing \u001b[32m'What topics are covered?'\u001b[0m\n",
       "to \u001b[32m'What are the key points Dr. X discussed about Y in \u001b[0m\u001b[32m[\u001b[0m\u001b[32mSpecific Episode\u001b[0m\u001b[32m]\u001b[0m\u001b[32m?'\u001b[0m The goal is to ensure each rewritten \n",
       "query is a clear, direct question that unambiguously asks for information about specific topics, episodes, or \n",
       "guests. This facilitates more accurate and relevant searches or responses, enhancing user satisfaction by providing\n",
       "contextually appropriate replies. This active intervention is crucial for not only responding accurately but also \n",
       "for anticipating user needs based on prior queries, tailoring each query to continue the thread of discussion \n",
       "seamlessly, emphasizing clarity and detail.\n"
      ]
     },
     "metadata": {},
     "output_type": "display_data"
    }
   ],
   "source": [
    "# This is going to be my vague follow-up query.\n",
    "new_user_query = \"Who else discusses that topic?\"\n",
    "\n",
    "# We need to convert the data structure holding the last 5 queries to a string\n",
    "# so we can send it to the llm.\n",
    "completed_query_string_list = completed_query_queue.to_string()\n",
    "\n",
    "# Combine the new vague query with the previous queries and their contexts, and \n",
    "# answers to create a new llm prompt.\n",
    "query_rewrite_prompt = create_llm_prompt(new_user_query, completed_query_string_list)\n",
    "print(query_rewrite_prompt)"
   ]
  },
  {
   "cell_type": "code",
   "execution_count": 21,
   "metadata": {},
   "outputs": [
    {
     "data": {
      "text/html": [
       "<pre style=\"white-space:pre;overflow-x:auto;line-height:normal;font-family:Menlo,'DejaVu Sans Mono',consolas,'Courier New',monospace\">The Huberman Lab podcast is hosted by Dr. Andrew Huberman, a neuroscientist and professor at Stanford School of \n",
       "Medicine. While there are other podcasts and platforms that discuss neuroscience and science-based tools, I can \n",
       "only provide information about the Huberman Lab podcast.\n",
       "</pre>\n"
      ],
      "text/plain": [
       "The Huberman Lab podcast is hosted by Dr. Andrew Huberman, a neuroscientist and professor at Stanford School of \n",
       "Medicine. While there are other podcasts and platforms that discuss neuroscience and science-based tools, I can \n",
       "only provide information about the Huberman Lab podcast.\n"
      ]
     },
     "metadata": {},
     "output_type": "display_data"
    }
   ],
   "source": [
    "# This is what we'd get currently.\n",
    "llm_response = llm.chat_completion(huberman_system_message,\n",
    "    user_message=new_user_query,\n",
    "    temperature=0.5,\n",
    "    max_tokens=1000)\n",
    "\n",
    "print(llm_response)"
   ]
  },
  {
   "cell_type": "code",
   "execution_count": 22,
   "metadata": {},
   "outputs": [
    {
     "data": {
      "text/html": [
       "<pre style=\"white-space:pre;overflow-x:auto;line-height:normal;font-family:Menlo,'DejaVu Sans Mono',consolas,'Courier New',monospace\">Execution time: <span style=\"color: #008080; text-decoration-color: #008080; font-weight: bold\">0.6103546619415283</span> seconds\n",
       "</pre>\n"
      ],
      "text/plain": [
       "Execution time: \u001b[1;36m0.6103546619415283\u001b[0m seconds\n"
      ]
     },
     "metadata": {},
     "output_type": "display_data"
    },
    {
     "data": {
      "text/html": [
       "<pre style=\"white-space:pre;overflow-x:auto;line-height:normal;font-family:Menlo,'DejaVu Sans Mono',consolas,'Courier New',monospace\">What other podcasts or episodes discuss hypertrophy training?\n",
       "</pre>\n"
      ],
      "text/plain": [
       "What other podcasts or episodes discuss hypertrophy training?\n"
      ]
     },
     "metadata": {},
     "output_type": "display_data"
    }
   ],
   "source": [
    "# I was using this system message but haven't tried using the old one. \n",
    "\n",
    "start_time = time.time()\n",
    "\n",
    "# This is what the new prompts get with the vague question.\n",
    "llm_response = llm.chat_completion(huberman_system_message,\n",
    "    user_message=query_rewrite_prompt,\n",
    "    temperature=0.5,\n",
    "    max_tokens=1000)\n",
    "\n",
    "end_time = time.time()\n",
    "execution_time = end_time - start_time\n",
    "print(f\"Execution time: {execution_time} seconds\")\n",
    "\n",
    "print(llm_response)"
   ]
  },
  {
   "cell_type": "code",
   "execution_count": null,
   "metadata": {},
   "outputs": [],
   "source": []
  },
  {
   "cell_type": "code",
   "execution_count": null,
   "metadata": {},
   "outputs": [],
   "source": []
  },
  {
   "cell_type": "code",
   "execution_count": null,
   "metadata": {},
   "outputs": [],
   "source": []
  }
 ],
 "metadata": {
  "kernelspec": {
   "display_name": "Python 3",
   "language": "python",
   "name": "python3"
  },
  "language_info": {
   "codemirror_mode": {
    "name": "ipython",
    "version": 3
   },
   "file_extension": ".py",
   "mimetype": "text/x-python",
   "name": "python",
   "nbconvert_exporter": "python",
   "pygments_lexer": "ipython3",
   "version": "3.10.14"
  }
 },
 "nbformat": 4,
 "nbformat_minor": 2
}
